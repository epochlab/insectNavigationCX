{
 "cells": [
  {
   "cell_type": "code",
   "execution_count": null,
   "metadata": {},
   "outputs": [],
   "source": [
    "from dataclasses import dataclass\n",
    "\n",
    "import numpy as np\n",
    "import scipy.io as sio\n",
    "import matplotlib.pyplot as plt\n",
    "from tqdm import trange\n",
    "\n",
    "from gaussian_plume_model import get_odour_conc_landscape, get_odour_concentration\n",
    "from odour_wind_navigation import OdourWindNavigationFly\n",
    "from insect_brain_model import WindDirectionEncoder"
   ]
  },
  {
   "cell_type": "markdown",
   "metadata": {},
   "source": [
    "---\n",
    "## Odour Landscape"
   ]
  },
  {
   "cell_type": "code",
   "execution_count": null,
   "metadata": {},
   "outputs": [],
   "source": [
    "# x = np.linspace(-10, 10, 100)\n",
    "# y = np.linspace(-10, 10, 100)\n",
    "# mesh_x, mesh_y = np.meshgrid(x, y)\n",
    "# c = np.zeros([len(x),len(y)])\n",
    "# for i, xi in enumerate(x):\n",
    "#     for j, yi in enumerate(y):\n",
    "#         c[i][j] = get_odour_conc_landscape(xi, yi, 10.0, [None, 1.0], k=20.0, tau=1, shape='bar')\n",
    "\n",
    "# plt.figure(figsize=(5,5))\n",
    "# plt.pcolormesh(mesh_x, mesh_y, c.T, cmap='binary')\n",
    "# plt.tight_layout()"
   ]
  },
  {
   "cell_type": "markdown",
   "metadata": {},
   "source": [
    "---\n",
    "## Chemotaxis"
   ]
  },
  {
   "cell_type": "code",
   "execution_count": null,
   "metadata": {},
   "outputs": [],
   "source": [
    "# Agent\n",
    "OwN_fly = OdourWindNavigationFly(q=10, u=0, w_dir=0, radius=6, sx=0, sy=0, shape='Well')"
   ]
  },
  {
   "cell_type": "code",
   "execution_count": null,
   "metadata": {},
   "outputs": [],
   "source": [
    "@dataclass\n",
    "class HyperConfig:\n",
    "    arena_boundary = [-15, 15, -15, 15]\n",
    "    div = 128\n",
    "\n",
    "    start_pos = [10,0]\n",
    "    start_h = np.pi/2\n",
    "\n",
    "    time_out = 1200\n",
    "    step_size = 0.02\n",
    "    motor_k = 1.0\n",
    "\n",
    "    wind_direction = -np.pi/2 * np.ones(time_out)\n",
    "\n",
    "    odour_on_period = [0,time_out]\n",
    "    odour_input = np.zeros(time_out)\n",
    "    odour_input[odour_on_period[0]:odour_on_period[1]] = 1.0\n",
    "\n",
    "    OwN_fly.odour_on_thr = 0.01\n",
    "\n",
    "config = HyperConfig()"
   ]
  },
  {
   "cell_type": "code",
   "execution_count": null,
   "metadata": {},
   "outputs": [],
   "source": [
    "# Landscape\n",
    "x = np.linspace(config.arena_boundary[0], config.arena_boundary[1], config.div)\n",
    "y = np.linspace(config.arena_boundary[2], config.arena_boundary[3], config.div)\n",
    "mesh_x, mesh_y = np.meshgrid(x, y)\n",
    "mesh_c = np.zeros([len(x),len(y)])\n",
    "for i, xi in enumerate(x):\n",
    "    for j, yi in enumerate(y):\n",
    "        mesh_c[i][j] = OwN_fly.odour_field.get_odour_concentration(xi, yi)"
   ]
  },
  {
   "cell_type": "code",
   "execution_count": null,
   "metadata": {},
   "outputs": [],
   "source": [
    "# Simulate\n",
    "pos, h, v, odor, dis, t = OwN_fly.run(config.start_pos, config.start_h, config.time_out, config.odour_input, config.wind_direction, \n",
    "                                      strategy='odour_homing', oh_k=5e3, step_size=config.step_size, \n",
    "                                      motor_k=config.motor_k, stop_by_source=False, boundary=config.arena_boundary)"
   ]
  },
  {
   "cell_type": "code",
   "execution_count": null,
   "metadata": {},
   "outputs": [],
   "source": [
    "_, ax = plt.subplots(1,3,figsize=(30,10))\n",
    "ax[0].pcolormesh(mesh_x, mesh_y, mesh_c)\n",
    "ax[0].scatter(config.start_pos[0], config.start_pos[1], c='r', s=50, marker='o')\n",
    "ax[0].plot(pos[:,0], pos[:,1], c='w', lw=1)\n",
    "ax[0].set_aspect(1)\n",
    "\n",
    "ax[1].plot(odor[:-1], lw=0.5, c='r')\n",
    "ax[1].set_xlim([0, config.time_out])\n",
    "ax[1].grid(alpha=0.25)\n",
    "\n",
    "ax[2].plot(np.roll(h[1:],1) - h[1:], c='k', lw=0.5)\n",
    "ax[2].set_xlim([0, config.time_out])\n",
    "ax[2].grid(alpha=0.25)\n",
    "\n",
    "plt.tight_layout()"
   ]
  },
  {
   "cell_type": "markdown",
   "metadata": {},
   "source": [
    "---"
   ]
  },
  {
   "cell_type": "code",
   "execution_count": null,
   "metadata": {},
   "outputs": [],
   "source": [
    "@dataclass\n",
    "class HyperConfig:\n",
    "    arena_boundary = [-15, 15, -15, 15]\n",
    "    div = 128\n",
    "\n",
    "    agent_num = 5\n",
    "    trial_num = 4\n",
    "\n",
    "    time_out = 1500\n",
    "    step_size = 0.02\n",
    "    motor_k = 1.0\n",
    "\n",
    "    wind_direction = -np.pi/2 * np.ones(time_out)\n",
    "\n",
    "    odour_on_period = [0, time_out]\n",
    "    odour_input = np.zeros(time_out)\n",
    "    odour_input[odour_on_period[0]:odour_on_period[1]] = 1.0\n",
    "\n",
    "config = HyperConfig()"
   ]
  },
  {
   "cell_type": "code",
   "execution_count": null,
   "metadata": {},
   "outputs": [],
   "source": [
    "# Multiple Agents\n",
    "agents = list([OdourWindNavigationFly(q=10, u=0, w_dir=0, radius=6, sx=0, sy=0, shape='Volcano', handedness=i%2) for i in range(config.agent_num)])"
   ]
  },
  {
   "cell_type": "code",
   "execution_count": null,
   "metadata": {},
   "outputs": [],
   "source": [
    "# Landscape\n",
    "x = np.linspace(config.arena_boundary[0], config.arena_boundary[1], config.div)\n",
    "y = np.linspace(config.arena_boundary[2], config.arena_boundary[3], config.div)\n",
    "mesh_x, mesh_y = np.meshgrid(x, y)\n",
    "mesh_c = np.zeros([len(x),len(y)])\n",
    "for i, xi in enumerate(x):\n",
    "    for j, yi in enumerate(y):\n",
    "        mesh_c[i][j] = agents[0].odour_field.get_odour_concentration(xi, yi)"
   ]
  },
  {
   "cell_type": "code",
   "execution_count": null,
   "metadata": {},
   "outputs": [],
   "source": [
    "# Simulate\n",
    "pos_s, h_s, odour_s, dis_s, t_s = [],[],[],[],[]\n",
    "for i, agent in enumerate(agents):\n",
    "    for trial in trange(config.trial_num, desc=f\"Agent {i+1}\"):\n",
    "        start_pos = np.array([24.0 * (np.random.rand() - 0.5), 24.0 * (np.random.rand() - 0.5)])\n",
    "        start_h = np.random.rand() * np.pi * 2\n",
    "\n",
    "        pos, h, v, odour, dis, t = agent.run(start_pos, \n",
    "                                             start_h,\n",
    "                                             config.time_out, \n",
    "                                             config.odour_input, \n",
    "                                             config.wind_direction, \n",
    "                                             strategy='odour_homing', \n",
    "                                             oh_k=1e2, \n",
    "                                             step_size=config.step_size, \n",
    "                                             motor_k=config.motor_k, \n",
    "                                             stop_by_source=False, \n",
    "                                             boundary=config.arena_boundary)\n",
    "        \n",
    "        pos_s.append(pos), h_s.append(h), odour_s.append(odour), dis_s.append(dis), t_s.append(t)"
   ]
  },
  {
   "cell_type": "code",
   "execution_count": null,
   "metadata": {},
   "outputs": [],
   "source": [
    "plt.figure(figsize=(10,8))\n",
    "heatmap = plt.pcolormesh(mesh_x, mesh_y, mesh_c)\n",
    "\n",
    "selected_id = 10\n",
    "pos = pos_s[selected_id]\n",
    "plt.scatter(pos[0,0],pos[0,1], s=40, marker='o', edgecolor='r', label='Init Cond.')\n",
    "plt.plot(pos[:,0],pos[:,1], c='r', lw=1.0)\n",
    "\n",
    "for i, pos in enumerate(pos_s):\n",
    "    if i!=selected_id:\n",
    "        plt.scatter(pos[0,0],pos[0,1],s=40, marker='o', edgecolor='r', alpha=0.5)\n",
    "        plt.plot(pos[:,0],pos[:,1], c='w',lw=1.0, alpha=0.4)\n",
    "\n",
    "colorbar = plt.colorbar(heatmap, fraction=0.046, pad=0.04)\n",
    "colorbar.set_label('Odour Concentration', fontsize=12)\n",
    "\n",
    "plt.xlabel('x / cm'), plt.ylabel('y / cm')\n",
    "plt.legend(), plt.tight_layout()"
   ]
  },
  {
   "cell_type": "code",
   "execution_count": null,
   "metadata": {},
   "outputs": [],
   "source": [
    "plt.figure(figsize=(10,5))\n",
    "for i, odour_c in enumerate(odour_s):\n",
    "    plt.plot(odour_c[:-1], c='red', alpha=0.1, lw=0.8)\n",
    "\n",
    "plt.plot(np.mean(np.array(odour_s)[:,:-1], axis=0), color='r',lw=1)\n",
    "plt.fill_between(np.arange(0,min(t_s)), np.max(np.array(odour_s)[:,:min(t_s)], axis=0), np.min(np.array(odour_s)[:,:min(t_s)], axis=0), color='r', alpha=0.1)\n",
    "\n",
    "plt.xlim([0, config.time_out])\n",
    "plt.grid(alpha=0.1), plt.tight_layout()"
   ]
  },
  {
   "cell_type": "code",
   "execution_count": null,
   "metadata": {},
   "outputs": [],
   "source": [
    "sio.savemat('results/chemotaxis_volcano.mat',{'pos':pos_s, 'h':h_s, 'odor':odour_s, 'dis':dis_s, \n",
    "                                              'mesh_x':mesh_x, 'mesh_y':mesh_y, 'mesh_c':mesh_c})"
   ]
  },
  {
   "cell_type": "markdown",
   "metadata": {},
   "source": [
    "---\n",
    "## Wind Direction Encoding"
   ]
  },
  {
   "cell_type": "code",
   "execution_count": null,
   "metadata": {},
   "outputs": [],
   "source": [
    "wind_encoder = WindDirectionEncoder()\n",
    "heading = [0, np.pi/2]\n",
    "wind_direction = np.linspace(-np.pi, 0, 60)\n",
    "\n",
    "apn = [[] for _ in range(len(heading))]\n",
    "b1 = [[] for _ in range(len(heading))]\n",
    "wpn = [[] for _ in range(len(heading))]\n",
    "\n",
    "for i, h in enumerate(heading):\n",
    "    for wr in wind_direction:\n",
    "        wpn[i].append(wind_encoder.upwind_activation(h, wr))\n",
    "        apn[i].append(wind_encoder.apn)\n",
    "        b1[i].append(wind_encoder.b1)"
   ]
  },
  {
   "cell_type": "code",
   "execution_count": null,
   "metadata": {},
   "outputs": [],
   "source": [
    "sio.savemat('results/wind_direction_encoding.mat', {'heading':heading, 'wind_dir':wind_direction,'apn':apn, 'b1':b1, 'wpn':wpn})"
   ]
  },
  {
   "cell_type": "markdown",
   "metadata": {},
   "source": [
    "## odour gated anemotaxis"
   ]
  },
  {
   "cell_type": "code",
   "execution_count": null,
   "metadata": {},
   "outputs": [],
   "source": [
    "OwN_fly = OdourWindNavigationFly(q=10, u=10, w_dir=-np.pi/2, radius=4, sx=0, sy=0)"
   ]
  },
  {
   "cell_type": "code",
   "execution_count": null,
   "metadata": {},
   "outputs": [],
   "source": [
    "x = np.linspace(-20, 20, 40)\n",
    "y = np.linspace(-140, 0, 140)\n",
    "mesh_x, mesh_y = np.meshgrid(x, y)\n",
    "mesh_x, mesh_y = np.meshgrid(x, y)\n",
    "mesh_c = OwN_fly.odour_field.get_odour_concentration(mesh_x, mesh_y)"
   ]
  },
  {
   "cell_type": "code",
   "execution_count": null,
   "metadata": {},
   "outputs": [],
   "source": [
    "### run serials of trials\n",
    "from odor_wind_navigation import OdourWindNavigationFly\n",
    "# odour source param\n",
    "sx = 0\n",
    "sy = 0\n",
    "q = 10\n",
    "# no wind\n",
    "u = 10\n",
    "w_dir = 0\n",
    "\n",
    "radius = 6\n",
    "agent_num = 4\n",
    "# create agent\n",
    "agents = list([OdourWindNavigationFly(q, u, w_dir, radius, sx, sy, handedness=i%2) for i in range(agent_num)])\n",
    "        \n",
    "trial_num = 5\n",
    "\n",
    "time_out = 200\n",
    "step_size = 0.4\n",
    "motor_k = 1.5\n",
    "\n",
    "wind_direction = -np.pi/2 * np.ones(time_out)\n",
    "\n",
    "# store the data\n",
    "pos_s = []\n",
    "h_s = []\n",
    "odor_s = []\n",
    "dis_s = []\n",
    "t_s = []\n",
    "v_s = []\n",
    "# generate odour dynamics\n",
    "odour_on_period = [int(time_out/4), int(time_out/2)]\n",
    "odour_input = np.zeros(time_out)\n",
    "odour_input[odour_on_period[0]:odour_on_period[1]] = 1.0\n",
    "\n",
    "# arena boundary\n",
    "arena_boundary = [-20, 20, -140, 0]\n",
    "\n",
    "for i, agent in enumerate(agents):\n",
    "    for trial in range(trial_num):\n",
    "        print('%dth agent - %dth trial -> %s:' % (i, trial, 'odour_gated_upwind'))\n",
    "        agent.odour_on_thr = 0.01\n",
    "        # x in [-15,15], y in []\n",
    "        start_pos = [30.0*(np.random.rand(1)-0.5), np.random.rand(1)*80.0 - 130.0]\n",
    "        start_h = np.random.rand(1)*np.pi*2\n",
    "        pos, h, v, odor, dis, t = agent.run(start_pos, start_h, time_out,\n",
    "                                            odour_input, wind_direction, strategy='odour_gated_upwind', oh_k=1e2,\n",
    "                                            step_size=step_size, motor_k=motor_k, stop_by_source=False, boundary=arena_boundary)\n",
    "        pos_s.append(pos)\n",
    "        v_s.append(v)\n",
    "        h_s.append(h)\n",
    "        odor_s.append(odor)\n",
    "        dis_s.append(dis)\n",
    "        t_s.append(t)"
   ]
  },
  {
   "cell_type": "code",
   "execution_count": null,
   "metadata": {},
   "outputs": [],
   "source": [
    "# plot result\n",
    "fig, ax = plt.subplots(figsize=(10,10))\n",
    "\n",
    "# odour concentration\n",
    "heatmap = ax.pcolormesh(mesh_x, mesh_y, mesh_c, cmap='Blues', shading='auto')\n",
    "\n",
    "selected_id = 1\n",
    "\n",
    "pos = pos_s[selected_id]\n",
    " # start point\n",
    "ax.scatter(pos[0,0],pos[0,1], s=40, marker='o', c=None, edgecolor='red', label='Start point')\n",
    "ax.plot(pos[:odour_on_period[0],0],pos[:odour_on_period[0],1],c='black',lw=2.0, alpha=0.8, label='Before odour')\n",
    "ax.plot(pos[odour_on_period[0]:odour_on_period[1],0],pos[odour_on_period[0]:odour_on_period[1],1],\n",
    "        alpha=0.8, c='magenta',lw=2.0,label='During odour')\n",
    "ax.plot(pos[odour_on_period[1]:,0],pos[odour_on_period[1]:,1],\n",
    "        alpha=0.8, c='cyan',lw=2.0, label='After odour')\n",
    "\n",
    "\n",
    "for i, pos in enumerate(pos_s):\n",
    "    if i!=selected_id:\n",
    "        # start point\n",
    "        ax.scatter(pos[0,0],pos[0,1],s=40, marker='o', c=None, edgecolor='red', alpha=0.5)\n",
    "        # trajectory\n",
    "        ax.plot(pos[:odour_on_period[0],0],pos[:odour_on_period[0],1],c='black',lw=1.0, alpha=0.2)\n",
    "        ax.plot(pos[odour_on_period[0]:odour_on_period[1],0],pos[odour_on_period[0]:odour_on_period[1],1],\n",
    "                alpha=0.3, c='magenta',lw=1.0)\n",
    "        ax.plot(pos[odour_on_period[1]:,0],pos[odour_on_period[1]:,1],\n",
    "                alpha=0.2, c='cyan',lw=1.0)\n",
    "\n",
    "# add colorar\n",
    "colorbar = fig.colorbar(heatmap, ax=ax, fraction=0.046, pad=0.04)\n",
    "colorbar.set_label('Odour Concentration', fontsize=12)\n",
    "\n",
    "\n",
    "ax.set_xlim(-21,21)\n",
    "ax.set_ylim(-141,20)\n",
    "ax.set_xlabel('x / cm')\n",
    "ax.set_ylabel('y / cm')\n",
    "ax.set_aspect(1)\n",
    "\n",
    "ax.legend()"
   ]
  },
  {
   "cell_type": "code",
   "execution_count": null,
   "metadata": {},
   "outputs": [],
   "source": [
    "# plot result\n",
    "fig, ax = plt.subplots(figsize=(10,5))\n",
    "\n",
    "# ax.plot(odor_s[selected_id][:-1])\n",
    "for i, odor_c in enumerate(odor_s):\n",
    "    ax.plot(odor_c[:-1], c='red', alpha=0.1, lw=0.8)\n",
    "\n",
    "ax.plot(np.mean(np.array(odor_s)[:,:-1], axis=0), color='red',lw=2)\n",
    "ax.fill_between(np.arange(0,min(t_s)), np.max(np.array(odor_s)[:,:min(t_s)], axis=0), np.min(np.array(odor_s)[:,:min(t_s)], axis=0),\n",
    "                  color='r', alpha=0.1)"
   ]
  },
  {
   "cell_type": "code",
   "execution_count": null,
   "metadata": {},
   "outputs": [],
   "source": [
    "sio.savemat('results/anemotaxis.mat',{'pos':pos_s, 'h':h_s, 'v':v_s, 'odor':odor_s, 'dis':dis_s, 't_s':t_s,\n",
    "                                      'mesh_x':mesh_x, 'mesh_y':mesh_y, 'mesh_c':mesh_c, \n",
    "                                      'odour_daynamics': odour_on_period, 'odour_input':odour_input,\n",
    "                                      'step_size':step_size, 'motor_k':motor_k, 'time_out':time_out})"
   ]
  },
  {
   "cell_type": "markdown",
   "metadata": {},
   "source": [
    "## ON and OFF response for contextual integration"
   ]
  },
  {
   "cell_type": "code",
   "execution_count": null,
   "metadata": {},
   "outputs": [],
   "source": [
    "from odor_wind_navigation import OdourWindNavigationFly\n",
    "\n",
    "# odour source param\n",
    "sx = 0\n",
    "sy = 0\n",
    "q = 10\n",
    "# with wind\n",
    "u = 10\n",
    "w_dir = -np.pi/2\n",
    "\n",
    "radius = 4\n",
    "\n",
    "OwN_fly = OdourWindNavigationFly(q, u, w_dir, radius, sx, sy)"
   ]
  },
  {
   "cell_type": "code",
   "execution_count": null,
   "metadata": {},
   "outputs": [],
   "source": [
    "x = np.linspace(-20, 20, 40)\n",
    "y = np.linspace(-140, 0, 140)\n",
    "mesh_x, mesh_y = np.meshgrid(x, y)\n",
    "mesh_x, mesh_y = np.meshgrid(x, y)\n",
    "mesh_c = OwN_fly.odour_field.get_odour_concentration(mesh_x, mesh_y)"
   ]
  },
  {
   "cell_type": "code",
   "execution_count": null,
   "metadata": {},
   "outputs": [],
   "source": [
    "### run serials of trials\n",
    "from odor_wind_navigation import OdourWindNavigationFly\n",
    "# odour source param\n",
    "sx = 0\n",
    "sy = 0\n",
    "q = 10\n",
    "\n",
    "u = 10\n",
    "w_dir = 0\n",
    "\n",
    "radius = 6\n",
    "agent_num = 4\n",
    "# create agent\n",
    "agents = list([OdourWindNavigationFly(q, u, w_dir, radius, sx, sy, handedness=i%2) for i in range(agent_num)])\n",
    "        \n",
    "trial_num = 5\n",
    "\n",
    "time_out = 200\n",
    "step_size = 0.4\n",
    "motor_k = 1.5\n",
    "\n",
    "wind_direction = -np.pi/2 * np.ones(time_out)\n",
    "\n",
    "# store the data\n",
    "pos_s = []\n",
    "h_s = []\n",
    "odor_s = []\n",
    "dis_s = []\n",
    "t_s = []\n",
    "v_s = []\n",
    "response_state = []\n",
    "# generate odour dynamics\n",
    "odour_on_period = [int(time_out/4), int(time_out/2)]\n",
    "odour_input = np.zeros(time_out)\n",
    "odour_input[odour_on_period[0]:odour_on_period[1]] = 1.0\n",
    "\n",
    "# arena boundary\n",
    "arena_boundary = [-20, 20, -140, 0]\n",
    "\n",
    "for i, agent in enumerate(agents):\n",
    "    for trial in range(trial_num):\n",
    "        print('%dth agent - %dth trial -> %s:' % (i, trial, 'integrated'))\n",
    "        agent.odour_on_thr = 0.01\n",
    "        # x in [-15,15], y in []\n",
    "        start_pos = [30.0*(np.random.rand(1)-0.5), np.random.rand(1)*80.0 - 130.0]\n",
    "        start_h = np.random.rand(1)*np.pi*2\n",
    "        pos, h, v, odor, dis, t = agent.run(start_pos, start_h, time_out,\n",
    "                                            odour_input, wind_direction, strategy='integrated', oh_k=1e2,\n",
    "                                            step_size=step_size, motor_k=motor_k, stop_by_source=False, boundary=arena_boundary)\n",
    "        pos_s.append(pos)\n",
    "        v_s.append(v)\n",
    "        h_s.append(h)\n",
    "        odor_s.append(odor)\n",
    "        dis_s.append(dis)\n",
    "        t_s.append(t)\n",
    "        response_state.append(agent.response_state)"
   ]
  },
  {
   "cell_type": "code",
   "execution_count": null,
   "metadata": {},
   "outputs": [],
   "source": [
    "# plot result\n",
    "fig, ax = plt.subplots(figsize=(10,10))\n",
    "\n",
    "# odour concentration\n",
    "heatmap = ax.pcolormesh(mesh_x, mesh_y, mesh_c, cmap='Blues', shading='auto')\n",
    "\n",
    "selected_id = 3\n",
    "\n",
    "pos = pos_s[selected_id]\n",
    " # start point\n",
    "ax.scatter(pos[0,0],pos[0,1], s=40, marker='o', c=None, edgecolor='red', label='Start point')\n",
    "ax.plot(pos[:odour_on_period[0],0],pos[:odour_on_period[0],1],c='black',lw=2.0, alpha=0.8, label='Before odour')\n",
    "ax.plot(pos[odour_on_period[0]:odour_on_period[1],0],pos[odour_on_period[0]:odour_on_period[1],1],\n",
    "        alpha=0.8, c='magenta',lw=2.0,label='During odour')\n",
    "ax.plot(pos[odour_on_period[1]:,0],pos[odour_on_period[1]:,1],\n",
    "        alpha=0.8, c='cyan',lw=2.0, label='After odour')\n",
    "\n",
    "\n",
    "for i, pos in enumerate(pos_s):\n",
    "    if i!=selected_id:\n",
    "        # start point\n",
    "        ax.scatter(pos[0,0],pos[0,1],s=40, marker='o', c=None, edgecolor='red', alpha=0.5)\n",
    "        # trajectory\n",
    "        ax.plot(pos[:odour_on_period[0],0],pos[:odour_on_period[0],1],c='black',lw=1.0, alpha=0.2)\n",
    "        ax.plot(pos[odour_on_period[0]:odour_on_period[1],0],pos[odour_on_period[0]:odour_on_period[1],1],\n",
    "                alpha=0.3, c='magenta',lw=1.0)\n",
    "        ax.plot(pos[odour_on_period[1]:,0],pos[odour_on_period[1]:,1],\n",
    "                alpha=0.2, c='cyan',lw=1.0)\n",
    "\n",
    "# add colorar\n",
    "colorbar = fig.colorbar(heatmap, ax=ax, fraction=0.046, pad=0.04)\n",
    "colorbar.set_label('Odour Concentration', fontsize=12)\n",
    "\n",
    "\n",
    "ax.set_xlim(-21,21)\n",
    "ax.set_ylim(-141,20)\n",
    "ax.set_xlabel('x / cm')\n",
    "ax.set_ylabel('y / cm')\n",
    "ax.set_aspect(1)\n",
    "\n",
    "ax.legend()"
   ]
  },
  {
   "cell_type": "code",
   "execution_count": null,
   "metadata": {},
   "outputs": [],
   "source": [
    "# plot result\n",
    "fig, ax = plt.subplots(figsize=(10,5))\n",
    "\n",
    "# ax.plot(odor_s[selected_id][:-1])\n",
    "for i, odor_c in enumerate(odor_s):\n",
    "    ax.plot(odor_c[:-1], c='red', alpha=0.1, lw=0.8)\n",
    "\n",
    "ax.plot(np.mean(np.array(odor_s)[:,:-1], axis=0), color='red',lw=2)\n",
    "ax.fill_between(np.arange(0,min(t_s)), np.max(np.array(odor_s)[:,:min(t_s)], axis=0), np.min(np.array(odor_s)[:,:min(t_s)], axis=0),\n",
    "                  color='r', alpha=0.1)"
   ]
  },
  {
   "cell_type": "code",
   "execution_count": null,
   "metadata": {},
   "outputs": [],
   "source": [
    "sio.savemat('results/integrated.mat',{'pos':pos_s, 'h':h_s, 'v':v_s, 'odor':odor_s, 'dis':dis_s, 't_s':t_s, 'response_state':response_state,\n",
    "                                      'mesh_x':mesh_x, 'mesh_y':mesh_y, 'mesh_c':mesh_c, \n",
    "                                      'odour_daynamics': odour_on_period, 'odour_input':odour_input,\n",
    "                                      'step_size':step_size, 'motor_k':motor_k, 'time_out':time_out})"
   ]
  },
  {
   "cell_type": "markdown",
   "metadata": {},
   "source": [
    "## Ants - integrated with PI"
   ]
  },
  {
   "cell_type": "code",
   "execution_count": null,
   "metadata": {},
   "outputs": [],
   "source": [
    "from odor_wind_navigation import OdourWindNavigationAnt\n",
    "\n",
    "# odour source param\n",
    "sx = 0\n",
    "sy = 0\n",
    "q = 20\n",
    "u = 10\n",
    "w_dir = np.pi\n",
    "pi_initial_memory = 0.1\n",
    "radius = 4\n",
    "OwN_ant = OdourWindNavigationAnt(pi_initial_memory, q, u, w_dir, radius, sx, sy)"
   ]
  },
  {
   "cell_type": "code",
   "execution_count": null,
   "metadata": {},
   "outputs": [],
   "source": [
    "# get the concentration heatmap of the odour\n",
    "x = np.linspace(-4, 0, 40)\n",
    "y = np.linspace(-5, 2, 70)\n",
    "mesh_x, mesh_y = np.meshgrid(x, y)\n",
    "\n",
    "mesh_c = OwN_ant.odour_field.get_odour_concentration(mesh_x, mesh_y)"
   ]
  },
  {
   "cell_type": "code",
   "execution_count": null,
   "metadata": {},
   "outputs": [],
   "source": [
    "# generate the PI memory\n",
    "pi_len = 11.0 # m\n",
    "pi_dir = -90 # deg\n",
    "\n",
    "# run a trial\n",
    "start_pos1 = np.array([-1.0,-10.0])\n",
    "start_pos2 = np.array([1.5,-10.0])\n",
    "start_h = np.pi/2\n",
    "\n",
    "step_size = 0.05 #　m\n",
    "motor_k = 2.0\n",
    "\n",
    "pi_initial_memory = 0.2\n",
    "pi_memory = OwN_ant.generate_pi_memory(pi_len, pi_dir, step_size, pi_initial_memory)\n",
    "\n",
    "time_out = 250\n",
    "w_dir = np.pi * np.ones(time_out)\n",
    "\n",
    "OwN_ant.odour_on_thr = 2.5\n",
    "OwN_ant.odour_tune_k = 2.0\n",
    "OwN_ant.cpu4_mem_gain = 0.10\n",
    "t, odor, pos, h, velocity, pi_memory, ra_memory, s, dis= OwN_ant.run(start_pos1, start_h, time_out, w_dir, motor_k=motor_k, step_size=step_size, \n",
    "                                                                     odour_strategy='integrated_odour', with_pi=True)"
   ]
  },
  {
   "cell_type": "code",
   "execution_count": null,
   "metadata": {},
   "outputs": [],
   "source": [
    "fig,ax=plt.subplots(figsize=(5,10))\n",
    "ax.pcolormesh(mesh_x, mesh_y, mesh_c, alpha=0.8, cmap='gray_r', shading='auto')\n",
    "# feeder\n",
    "ax.scatter(0,-10,marker='s',c='black',s=30)\n",
    "# nest\n",
    "ax.scatter(0,0,marker='*',c='red',s=30)\n",
    "# RP1\n",
    "ax.scatter(start_pos1[0],start_pos1[1],marker='s',c='red',s=30)\n",
    "# RP2\n",
    "ax.scatter(start_pos2[0],start_pos2[1],marker='s',c='blue',s=30)\n",
    "\n",
    "# homing route\n",
    "ax.plot(pos[:,0],pos[:,1])\n",
    "\n",
    "ax.set_aspect(1)"
   ]
  },
  {
   "cell_type": "code",
   "execution_count": null,
   "metadata": {},
   "outputs": [],
   "source": [
    "%%time\n",
    "# run trials\n",
    "# generate the PI memory\n",
    "pi_len = 10.0 # m\n",
    "pi_dir = -90 # deg\n",
    "\n",
    "# run a trial\n",
    "start_pos1 = np.array([-1.5,-10.0])\n",
    "start_pos2 = np.array([1.5,-10.0])\n",
    "start_pos_s = [start_pos1, start_pos2]\n",
    "# start_pos_s = [[0, -10.0]]\n",
    "start_h_s = np.linspace(-np.pi, np.pi, 10, endpoint=False)\n",
    "\n",
    "step_size = 0.05 #　m\n",
    "motor_k = 1.0\n",
    "\n",
    "pi_initial_memory = 0.2\n",
    "\n",
    "\n",
    "time_out = 280\n",
    "w_dir = np.pi * np.ones(time_out)\n",
    "\n",
    "OwN_ant.odour_on_thr = 1.2\n",
    "OwN_ant.on_response_thr = 0.5\n",
    "OwN_ant.odour_tune_k = 0.1\n",
    "OwN_ant.cpu4_mem_gain = 0.10\n",
    "pos_s = []\n",
    "h_s = []\n",
    "odor_s = []\n",
    "dis_s = []\n",
    "t_s = []\n",
    "v_s = []\n",
    "pi_memory_s = []\n",
    "ra_memory_s = []\n",
    "response_state = []\n",
    "\n",
    "# start trial\n",
    "for sp in start_pos_s:\n",
    "    for sh in start_h_s:\n",
    "        print('start at [%.1f,%.1f] with heading %.1fdeg'%(sp[0], sp[1], sh/np.pi*180))\n",
    "        # rebuild PI memory\n",
    "        pi_memory = OwN_ant.generate_pi_memory(pi_len, pi_dir, step_size, pi_initial_memory)\n",
    "        t, odor, pos, h, velocity, pi_memory, ra_memory, s, dis = OwN_ant.run(sp, sh, time_out, w_dir, motor_k=motor_k, step_size=step_size, \n",
    "                                                                              odour_strategy='integrated_odour', with_pi=True)\n",
    "        pos_s.append(pos)\n",
    "        v_s.append(velocity)\n",
    "        h_s.append(h)\n",
    "        odor_s.append(odor)\n",
    "        dis_s.append(dis)\n",
    "        t_s.append(t)\n",
    "        response_state.append(s)\n",
    "        pi_memory_s.append(pi_memory)\n",
    "        ra_memory_s.append(ra_memory)"
   ]
  },
  {
   "cell_type": "code",
   "execution_count": null,
   "metadata": {},
   "outputs": [],
   "source": [
    "# plot the results to check\n",
    "fig,ax=plt.subplots(figsize=(5,10))\n",
    "ax.pcolormesh(mesh_x, mesh_y, mesh_c, alpha=0.8, cmap='gray_r', shading='auto')\n",
    "# feeder\n",
    "ax.scatter(0,-10,marker='s',c='black',s=30)\n",
    "# nest\n",
    "ax.scatter(0,0,marker='*',c='red',s=30)\n",
    "# RP1\n",
    "ax.scatter(start_pos1[0],start_pos1[1],marker='s',c='red',s=30)\n",
    "# RP2\n",
    "ax.scatter(start_pos2[0],start_pos2[1],marker='s',c='blue',s=30)\n",
    "\n",
    "# homing route\n",
    "for i, pos in enumerate(pos_s):\n",
    "    lc = 'red' if i < len(pos_s)/2 else 'skyblue'\n",
    "    ax.plot(pos[:,0],pos[:,1], c=lc, lw=0.5)\n",
    "\n",
    "ax.set_aspect(1)"
   ]
  },
  {
   "cell_type": "code",
   "execution_count": null,
   "metadata": {},
   "outputs": [],
   "source": [
    "# save data\n",
    "sio.savemat('results/ants_integrated.mat',{'pos':pos_s, 'h':h_s, 'v':v_s, 'odor':odor_s, 'dis':dis_s, 't_s':t_s, 'response_state':response_state,\n",
    "                                           'mesh_x':mesh_x, 'mesh_y':mesh_y, 'mesh_c':mesh_c, 'pi_memory':pi_memory_s, 'ra_memory': ra_memory_s,\n",
    "                                           'step_size':step_size, 'motor_k':motor_k, 'time_out':time_out})"
   ]
  },
  {
   "cell_type": "markdown",
   "metadata": {},
   "source": [
    "additional odour field"
   ]
  },
  {
   "cell_type": "code",
   "execution_count": null,
   "metadata": {},
   "outputs": [],
   "source": [
    "from odor_wind_navigation import OdourWindNavigationAnt\n",
    "\n",
    "# odour source param\n",
    "sx = 0\n",
    "sy = 0\n",
    "q = 20\n",
    "u = 10\n",
    "w_dir = np.pi\n",
    "pi_initial_memory = 0.1\n",
    "radius = 4\n",
    "additional_odour = {'sx':0, 'sy':-9, 'q':q, 'u':u}\n",
    "OwN_ant = OdourWindNavigationAnt(pi_initial_memory, q, u, w_dir, radius, sx, sy,\n",
    "                                 additional_odour=additional_odour)"
   ]
  },
  {
   "cell_type": "code",
   "execution_count": null,
   "metadata": {},
   "outputs": [],
   "source": [
    "# get the concentration heatmap of the odour\n",
    "x = np.linspace(-4, 0, 40)\n",
    "y = np.linspace(-5, 2, 70)\n",
    "mesh_x, mesh_y = np.meshgrid(x, y)\n",
    "mesh_c = OwN_ant.odour_field.get_odour_concentration(mesh_x, mesh_y)\n",
    "if OwN_ant.odour_field_add is not None:\n",
    "    x_add = np.linspace(-4, 0, 40)\n",
    "    y_add = np.linspace(-10, -3, 70)\n",
    "    mesh_x_add, mesh_y_add = np.meshgrid(x_add, y_add)\n",
    "    mesh_c_add = OwN_ant.odour_field_add.get_odour_concentration(mesh_x_add, mesh_y_add)"
   ]
  },
  {
   "cell_type": "code",
   "execution_count": null,
   "metadata": {},
   "outputs": [],
   "source": [
    "# generate the PI memory\n",
    "pi_len = 10.0 # m\n",
    "pi_dir = -90 # deg\n",
    "\n",
    "# run a trial\n",
    "start_pos1 = np.array([-1.0,-10.0])\n",
    "start_pos2 = np.array([1.5,-10.0])\n",
    "start_h = np.pi\n",
    "step_size = 0.05 #　m\n",
    "motor_k = 1.0\n",
    "\n",
    "pi_initial_memory = 0.2\n",
    "pi_memory = OwN_ant.generate_pi_memory(pi_len, pi_dir, step_size, pi_initial_memory)\n",
    "\n",
    "time_out = 300\n",
    "w_dir = np.pi * np.ones(time_out)\n",
    "\n",
    "OwN_ant.odour_on_thr = 1.2\n",
    "OwN_ant.on_response_thr = 0.5\n",
    "OwN_ant.odour_tune_k = 0.5\n",
    "OwN_ant.cpu4_mem_gain = 0.10\n",
    "\n",
    "t, odor, pos, h, velocity, pi_memory, ra_memory, s, dis= OwN_ant.run(start_pos1, start_h, time_out, w_dir, motor_k=motor_k, step_size=step_size, \n",
    "                                                                     odour_strategy='integrated_odour', with_pi=True)"
   ]
  },
  {
   "cell_type": "code",
   "execution_count": null,
   "metadata": {},
   "outputs": [],
   "source": []
  },
  {
   "cell_type": "code",
   "execution_count": null,
   "metadata": {},
   "outputs": [],
   "source": [
    "fig,ax=plt.subplots(figsize=(5,10))\n",
    "ax.pcolormesh(mesh_x, mesh_y, mesh_c, alpha=0.8, cmap='gray_r', shading='auto')\n",
    "ax.pcolormesh(mesh_x_add, mesh_y_add, mesh_c_add, alpha=0.8, cmap='gray_r', shading='auto')\n",
    "# feeder\n",
    "ax.scatter(0,-10,marker='s',c='black',s=30)\n",
    "# nest\n",
    "ax.scatter(0,0,marker='*',c='red',s=30)\n",
    "# RP1\n",
    "ax.scatter(start_pos1[0],start_pos1[1],marker='s',c='red',s=30)\n",
    "# RP2\n",
    "ax.scatter(start_pos2[0],start_pos2[1],marker='s',c='blue',s=30)\n",
    "\n",
    "# homing route\n",
    "ax.plot(pos[:,0],pos[:,1])\n",
    "\n",
    "ax.set_aspect(1)"
   ]
  },
  {
   "cell_type": "code",
   "execution_count": null,
   "metadata": {},
   "outputs": [],
   "source": [
    "%%time\n",
    "# run trials\n",
    "# generate the PI memory\n",
    "pi_len = 10.0 # m\n",
    "pi_dir = -90 # deg\n",
    "\n",
    "# run a trial\n",
    "start_pos1 = np.array([-1.5,-10.0])\n",
    "start_pos2 = np.array([1.5,-10.0])\n",
    "start_pos_s = [start_pos1, start_pos2]\n",
    "# start_pos_s = [[0, -10.0]]\n",
    "start_h_s = np.linspace(-np.pi, np.pi, 10, endpoint=False)\n",
    "\n",
    "step_size = 0.05 #　m\n",
    "motor_k = 1.0\n",
    "\n",
    "pi_initial_memory = 0.2\n",
    "\n",
    "\n",
    "time_out = 300\n",
    "w_dir = np.pi * np.ones(time_out)\n",
    "\n",
    "OwN_ant.odour_on_thr = 1.2\n",
    "OwN_ant.on_response_thr = 0.5\n",
    "OwN_ant.odour_tune_k = 0.5\n",
    "OwN_ant.cpu4_mem_gain = 0.10\n",
    "pos_s = []\n",
    "h_s = []\n",
    "odor_s = []\n",
    "dis_s = []\n",
    "t_s = []\n",
    "v_s = []\n",
    "pi_memory_s = []\n",
    "ra_memory_s = []\n",
    "response_state = []\n",
    "\n",
    "# start trial\n",
    "for sp in start_pos_s:\n",
    "    for sh in start_h_s:\n",
    "        print('start at [%.1f,%.1f] with heading %.1fdeg'%(sp[0], sp[1], sh/np.pi*180))\n",
    "        # rebuild PI memory\n",
    "        pi_memory = OwN_ant.generate_pi_memory(pi_len, pi_dir, step_size, pi_initial_memory)\n",
    "        t, odor, pos, h, velocity, pi_memory, ra_memory, s, dis = OwN_ant.run(sp, sh, time_out, w_dir, motor_k=motor_k, step_size=step_size, \n",
    "                                                                              odour_strategy='integrated_odour', with_pi=True)\n",
    "        pos_s.append(pos)\n",
    "        v_s.append(velocity)\n",
    "        h_s.append(h)\n",
    "        odor_s.append(odor)\n",
    "        dis_s.append(dis)\n",
    "        t_s.append(t)\n",
    "        response_state.append(s)\n",
    "        pi_memory_s.append(pi_memory)\n",
    "        ra_memory_s.append(ra_memory)"
   ]
  },
  {
   "cell_type": "code",
   "execution_count": null,
   "metadata": {},
   "outputs": [],
   "source": [
    "# plot the results to check\n",
    "fig,ax=plt.subplots(figsize=(5,10))\n",
    "ax.pcolormesh(mesh_x, mesh_y, mesh_c, alpha=0.8, cmap='gray_r', shading='auto')\n",
    "ax.pcolormesh(mesh_x_add, mesh_y_add, mesh_c_add, alpha=0.8, cmap='gray_r', shading='auto')\n",
    "# feeder\n",
    "ax.scatter(0,-10,marker='s',c='black',s=30)\n",
    "# nest\n",
    "ax.scatter(0,0,marker='*',c='red',s=30)\n",
    "# RP1\n",
    "ax.scatter(start_pos1[0],start_pos1[1],marker='s',c='red',s=30)\n",
    "# RP2\n",
    "ax.scatter(start_pos2[0],start_pos2[1],marker='s',c='blue',s=30)\n",
    "\n",
    "# homing route\n",
    "for i, pos in enumerate(pos_s):\n",
    "    lc = 'red' if i < len(pos_s)/2 else 'skyblue'\n",
    "    ax.plot(pos[:,0],pos[:,1], c=lc, lw=0.5)\n",
    "\n",
    "ax.set_aspect(1)"
   ]
  },
  {
   "cell_type": "code",
   "execution_count": null,
   "metadata": {},
   "outputs": [],
   "source": [
    "# save data\n",
    "sio.savemat('results/ants_integrated_add_odour_t300.mat',{'pos':pos_s, 'h':h_s, 'v':v_s, 'odor':odor_s, 'dis':dis_s, 't_s':t_s, 'response_state':response_state, 'mesh_x':mesh_x, 'mesh_y':mesh_y, 'mesh_c':mesh_c, 'mesh_x_add':mesh_x_add, 'mesh_y_add':mesh_y_add, 'mesh_c_add':mesh_c_add, 'pi_memory':pi_memory_s, 'ra_memory': ra_memory_s, 'step_size':step_size, 'motor_k':motor_k, 'time_out':time_out})"
   ]
  },
  {
   "cell_type": "markdown",
   "metadata": {},
   "source": []
  },
  {
   "cell_type": "markdown",
   "metadata": {},
   "source": [
    "## flying flies"
   ]
  },
  {
   "cell_type": "code",
   "execution_count": null,
   "metadata": {},
   "outputs": [],
   "source": [
    "from odor_wind_navigation import OdourWindNavigationFly\n",
    "\n",
    "# odour source param\n",
    "sx = None\n",
    "sy = 0.12\n",
    "q = 10\n",
    "# with no wind affect the odour field\n",
    "u = 0\n",
    "w_dir = np.pi\n",
    "\n",
    "radius = 0.02\n",
    "\n",
    "OwN_fly = OdourWindNavigationFly(q, u, w_dir, radius, sx, sy, shape='bar')"
   ]
  },
  {
   "cell_type": "code",
   "execution_count": null,
   "metadata": {},
   "outputs": [],
   "source": [
    "# get the concentration heatmap of the odour\n",
    "x = np.linspace(0, 1.5, 150)\n",
    "y = np.linspace(0, 0.3, 150)\n",
    "mesh_x, mesh_y = np.meshgrid(x, y)\n",
    "\n",
    "mesh_c = OwN_fly.odour_field.get_odour_concentration(mesh_x, mesh_y)"
   ]
  },
  {
   "cell_type": "code",
   "execution_count": null,
   "metadata": {},
   "outputs": [],
   "source": [
    "### run serials of trials\n",
    "from odor_wind_navigation import OdourWindNavigationFly\n",
    "# odour source param\n",
    "sx = None\n",
    "sy = 0.15\n",
    "q = 10\n",
    "# with no wind affect the odour field\n",
    "u = 0\n",
    "w_dir = np.pi\n",
    "radius = 0.01\n",
    "\n",
    "agent_num = 2\n",
    "# create agent\n",
    "agents = list([OdourWindNavigationFly(q, u, w_dir, radius, sx, sy, shape='bar', handedness=i%2) for i in range(agent_num)])\n",
    "\n",
    "# get the concentration heatmap of the odour\n",
    "x = np.linspace(0, 1.5, 150)\n",
    "y = np.linspace(0, 0.3, 150)\n",
    "mesh_x, mesh_y = np.meshgrid(x, y)\n",
    "\n",
    "mesh_c = agents[0].odour_field.get_odour_concentration(mesh_x, mesh_y)\n",
    "\n",
    "trial_num = 2\n",
    "\n",
    "time_out = 300\n",
    "step_size = 0.005\n",
    "motor_k = 1.5\n",
    "\n",
    "wind_direction = np.pi * np.ones(time_out)\n",
    "\n",
    "# store the data\n",
    "pos_s = []\n",
    "h_s = []\n",
    "odor_s = []\n",
    "dis_s = []\n",
    "t_s = []\n",
    "v_s = []\n",
    "response_state = []\n",
    "# generate odour dynamics\n",
    "# odour_on_period = [int(time_out/4), int(time_out/2)]\n",
    "# odour_input = np.zeros(time_out)\n",
    "# odour_input[odour_on_period[0]:odour_on_period[1]] = 1.0\n",
    "odour_input = np.ones(time_out)\n",
    "# arena boundary\n",
    "arena_boundary = [0, 1.5, 0, 0.3]\n",
    "# odour region (ribbon plume)\n",
    "# odour_region = [0, 1.3, 0.12, 0.13]\n",
    "for i, agent in enumerate(agents):\n",
    "    for trial in range(trial_num):\n",
    "        print('%dth agent - %dth trial -> %s:' % (i, trial, 'integrated'))\n",
    "        agent.odour_on_thr = 6.0\n",
    "        \n",
    "        agent.on_response_thr = 1e-3\n",
    "        agent.off_response_thr = -1e-3\n",
    "        \n",
    "        agent.collision_thr = step_size\n",
    "        # x in [0,0.25], y in [0,0.3]\n",
    "#         start_pos = [0.25*(np.random.rand(1)), np.random.rand(1)*0.2]\n",
    "        start_pos = [0.1, 0.2]\n",
    "        start_h = np.random.rand(1)*np.pi*2\n",
    "        pos, h, v, odor, dis, t = agent.run(start_pos, start_h, time_out,\n",
    "                                            odour_input, wind_direction, strategy='integrated', oh_k=10,\n",
    "                                            step_size=step_size, motor_k=motor_k, stop_by_source=False, boundary=arena_boundary,\n",
    "                                            constant_odour=False)\n",
    "        pos_s.append(pos)\n",
    "        v_s.append(v)\n",
    "        h_s.append(h)\n",
    "        odor_s.append(odor)\n",
    "        dis_s.append(dis)\n",
    "        t_s.append(t)\n",
    "        response_state.append(agent.response_state)"
   ]
  },
  {
   "cell_type": "code",
   "execution_count": null,
   "metadata": {},
   "outputs": [],
   "source": [
    "# plot result\n",
    "fig, ax = plt.subplots(figsize=(10,10))\n",
    "\n",
    "# odour concentration\n",
    "heatmap = ax.pcolormesh(mesh_x, mesh_y, mesh_c, cmap='Reds', shading='auto', alpha=0.5)\n",
    "\n",
    "# tri_pi1 = plt.Polygon([[0,0.13],[0,0.12],[1.3,0.12],[1.3,0.13]], color='orange',label='PI dircetion')\n",
    "\n",
    "# ax.add_patch(tri_pi1)\n",
    "\n",
    "selected_id = 0\n",
    "\n",
    "pos = pos_s[selected_id]\n",
    " # start point\n",
    "ax.scatter(pos[0,0],pos[0,1], s=40, marker='o', c=None, edgecolor='red', label='Start point')\n",
    "# ax.plot(pos[:odour_on_period[0],0],pos[:odour_on_period[0],1],c='black',lw=2.0, alpha=0.8, label='Before odour')\n",
    "# ax.plot(pos[odour_on_period[0]:odour_on_period[1],0],pos[odour_on_period[0]:odour_on_period[1],1],\n",
    "#         alpha=0.8, c='magenta',lw=2.0,label='During odour')\n",
    "# ax.plot(pos[odour_on_period[1]:,0],pos[odour_on_period[1]:,1],\n",
    "#         alpha=0.8, c='cyan',lw=2.0, label='After odour')\n",
    "ax.plot(pos[:,0],pos[:,1], alpha=0.8, c='blue',lw=2.0, label='After odour')\n",
    "\n",
    "for i, pos in enumerate(pos_s):\n",
    "    if i!=selected_id:\n",
    "        # start point\n",
    "        ax.scatter(pos[0,0],pos[0,1],s=40, marker='o', c=None, edgecolor='red', alpha=0.5)\n",
    "        # trajectory\n",
    "#         ax.plot(pos[:odour_on_period[0],0],pos[:odour_on_period[0],1],c='black',lw=1.0, alpha=0.2)\n",
    "#         ax.plot(pos[odour_on_period[0]:odour_on_period[1],0],pos[odour_on_period[0]:odour_on_period[1],1],\n",
    "#                 alpha=0.3, c='magenta',lw=1.0)\n",
    "#         ax.plot(pos[odour_on_period[1]:,0],pos[odour_on_period[1]:,1],\n",
    "#                 alpha=0.2, c='cyan',lw=1.0)\n",
    "        ax.plot(pos[:,0],pos[:,1], alpha=0.4, c='blue',lw=1.0, label='After odour')\n",
    "\n",
    "# add colorar\n",
    "# colorbar = fig.colorbar(heatmap, ax=ax, fraction=0.046, pad=0.04)\n",
    "# colorbar.set_label('Odour Concentration', fontsize=12)\n",
    "\n",
    "\n",
    "ax.set_xlim(-0.05,1.5)\n",
    "ax.set_ylim(-0.05,0.32)\n",
    "ax.set_xlabel('x')\n",
    "ax.set_ylabel('y')\n",
    "ax.set_aspect(1)\n",
    "\n",
    "# ax.legend()"
   ]
  },
  {
   "cell_type": "code",
   "execution_count": null,
   "metadata": {},
   "outputs": [],
   "source": [
    "plt.plot(odor_s[selected_id][:-1])"
   ]
  },
  {
   "cell_type": "code",
   "execution_count": null,
   "metadata": {},
   "outputs": [],
   "source": [
    "response_state[selected_id]"
   ]
  },
  {
   "cell_type": "code",
   "execution_count": null,
   "metadata": {},
   "outputs": [],
   "source": [
    "pos, h, v, odor, dis, t = agent.run([0,0.2], start_h, 150,\n",
    "                                    odour_input, wind_direction, strategy='integrated', oh_k=0.1,\n",
    "                                    step_size=step_size, motor_k=motor_k, stop_by_source=False, boundary=arena_boundary,\n",
    "                                    constant_odour=False)"
   ]
  },
  {
   "cell_type": "code",
   "execution_count": null,
   "metadata": {},
   "outputs": [],
   "source": [
    "# odour concentration\n",
    "# plot result\n",
    "fig, ax = plt.subplots(figsize=(10,10))\n",
    "heatmap = ax.pcolormesh(mesh_x, mesh_y, mesh_c, cmap='Blues', shading='auto')\n",
    "ax.plot(pos[:,0],pos[:,1], alpha=0.8, c='red',lw=2.0, label='After odour')\n",
    "ax.set_aspect(1)"
   ]
  },
  {
   "cell_type": "markdown",
   "metadata": {},
   "source": [
    "+ shift reference"
   ]
  },
  {
   "cell_type": "code",
   "execution_count": null,
   "metadata": {},
   "outputs": [],
   "source": [
    "from odor_wind_navigation import ShiftReferences\n",
    "from insect_brain_model import WindDirectionEncoder"
   ]
  },
  {
   "cell_type": "markdown",
   "metadata": {},
   "source": [
    "    + wind compensation"
   ]
  },
  {
   "cell_type": "code",
   "execution_count": null,
   "metadata": {},
   "outputs": [],
   "source": [
    "agent = ShiftReferences()\n",
    "# parameters\n",
    "agent.random_motor_w = 0.1\n",
    "# wind encoding\n",
    "wind_encoder = WindDirectionEncoder()\n",
    "# shift 90deg\n",
    "\n",
    "trial_num = 20\n",
    "heading_before_wind = np.pi/2\n",
    "heading_after_wind = np.random.randn(trial_num) * np.pi\n",
    "pos_s = []\n",
    "h_s = []\n",
    "\n",
    "time_out = 100\n",
    "# wind dirction, 0 for eastward, and np.pi for westward\n",
    "wind_direction = 0\n",
    "# generate desired heading when clutching\n",
    "# get WPN encoding the wind direction\n",
    "wpn = wind_encoder.upwind_activation(heading_before_wind,\n",
    "                                     wind_direction)\n",
    "# get desired heading by shifting acoording to the WPN activation\n",
    "agent.update_desired_headings(heading_before_wind, wpn)\n",
    "for i in range(trial_num):\n",
    "    # after being blown away\n",
    "    t,pos,h,v = agent.run([0,0], heading_after_wind[i], time_out)\n",
    "    pos_s.append(pos)\n",
    "    h_s.append(h)\n",
    "pos_s = np.array(pos_s)\n",
    "h_s = np.array(h_s)"
   ]
  },
  {
   "cell_type": "code",
   "execution_count": null,
   "metadata": {},
   "outputs": [],
   "source": [
    "# show the data\n",
    "for i in range(trial_num):\n",
    "    plt.plot(pos_s[i][:,0], pos_s[i][:,1])\n",
    "ax=plt.gca()\n",
    "ax.set_aspect(1)"
   ]
  },
  {
   "cell_type": "code",
   "execution_count": null,
   "metadata": {},
   "outputs": [],
   "source": [
    "# save the data\n",
    "sio.savemat('results/WindCompensating_EastwardWind.mat',{'pos':pos_s, 'h':h_s})"
   ]
  },
  {
   "cell_type": "markdown",
   "metadata": {},
   "source": [
    "    + backtracking"
   ]
  },
  {
   "cell_type": "code",
   "execution_count": null,
   "metadata": {},
   "outputs": [],
   "source": [
    "agent = ShiftReferences()\n",
    "# parameters\n",
    "agent.random_motor_w = 0.2\n",
    "# shift 90deg\n",
    "agent.update_desired_headings(np.pi/2, 4)\n",
    "trial_num = 20\n",
    "start_h = np.random.randn(trial_num) * np.pi\n",
    "pos_s = []\n",
    "h_s = []\n",
    "\n",
    "time_out = 100\n",
    "for sh in start_h:\n",
    "    t,pos,h,v = agent.run([0,0], sh, time_out)\n",
    "    pos_s.append(pos)\n",
    "    h_s.append(h)\n",
    "pos_s = np.array(pos_s)\n",
    "h_s = np.array(h_s)"
   ]
  },
  {
   "cell_type": "code",
   "execution_count": null,
   "metadata": {},
   "outputs": [],
   "source": [
    "for i in range(trial_num):\n",
    "    plt.plot(pos_s[i][:,0], pos_s[i][:,1])\n",
    "ax=plt.gca()\n",
    "ax.set_aspect(1)"
   ]
  },
  {
   "cell_type": "code",
   "execution_count": null,
   "metadata": {},
   "outputs": [],
   "source": [
    "# save the simulational data\n",
    "sio.savemat('results/Backtracking.mat',{'pos':pos_s, 'h':h_s})"
   ]
  },
  {
   "cell_type": "code",
   "execution_count": null,
   "metadata": {},
   "outputs": [],
   "source": []
  }
 ],
 "metadata": {
  "interpreter": {
   "hash": "66212a34db5a6711da0d843e02cc3093263f2aacaddfe3cad89a62516f1f443d"
  },
  "kernelspec": {
   "display_name": "Python 3.7.5 64-bit",
   "name": "python3"
  },
  "language_info": {
   "codemirror_mode": {
    "name": "ipython",
    "version": 3
   },
   "file_extension": ".py",
   "mimetype": "text/x-python",
   "name": "python",
   "nbconvert_exporter": "python",
   "pygments_lexer": "ipython3",
   "version": "3.10.14"
  }
 },
 "nbformat": 4,
 "nbformat_minor": 4
}
